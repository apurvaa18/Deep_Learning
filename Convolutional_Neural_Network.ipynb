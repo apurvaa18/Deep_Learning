{
  "nbformat": 4,
  "nbformat_minor": 0,
  "metadata": {
    "colab": {
      "provenance": []
    },
    "kernelspec": {
      "name": "python3",
      "display_name": "Python 3"
    },
    "language_info": {
      "name": "python"
    }
  },
  "cells": [
    {
      "cell_type": "markdown",
      "source": [
        "\n",
        "\n",
        "Consider the following convolutional neural network which consists of .\n",
        "Stride=1, Padding= No, Target=5,  learning rate= 0.01, loss function = MSE.\n",
        "Python code for forward as well as backpropagation in dense network.\n"
      ],
      "metadata": {
        "id": "zx_ZYaZJquPB"
      }
    },
    {
      "cell_type": "code",
      "source": [
        "import numpy as np\n",
        "\n",
        "def convolution2d(image, kernel, stride=1):\n",
        "    kernel_size = kernel.shape[0]\n",
        "    output_size = (image.shape[0] - kernel_size) // stride + 1\n",
        "    output = np.zeros((output_size, output_size))\n",
        "\n",
        "    for i in range(output_size):\n",
        "        for j in range(output_size):\n",
        "            region = image[i:i+kernel_size, j:j+kernel_size]\n",
        "            output[i, j] = np.sum(region * kernel)\n",
        "\n",
        "    return output\n"
      ],
      "metadata": {
        "id": "9eqe1kmTtK84"
      },
      "execution_count": null,
      "outputs": []
    },
    {
      "cell_type": "code",
      "source": [
        "def sigmoid(z):\n",
        "    return 1 / (1 + np.exp(-z))\n"
      ],
      "metadata": {
        "id": "vkpxzVb4tOi_"
      },
      "execution_count": null,
      "outputs": []
    },
    {
      "cell_type": "code",
      "source": [
        "def forward_pass(X, K, W, b):\n",
        "    conv_output = convolution2d(X, K)  # Get feature map\n",
        "    flattened = conv_output.flatten()  # Directly flatten convolution output\n",
        "\n",
        "    # Ensure W matches flattened size\n",
        "    if W.shape[0] != flattened.shape[0]:\n",
        "        raise ValueError(f\"Shape mismatch! Flattened size: {flattened.shape[0]}, Weight size: {W.shape[0]}\")\n",
        "\n",
        "    # Dense layer computation\n",
        "    z = np.dot(flattened, W) + b\n",
        "    y_pred = sigmoid(z)\n",
        "\n",
        "    return conv_output, flattened, z, y_pred\n"
      ],
      "metadata": {
        "id": "glSheGgytRBP"
      },
      "execution_count": null,
      "outputs": []
    },
    {
      "cell_type": "code",
      "source": [
        "# Given inputs\n",
        "X = np.array([[1, 0, 2, 3],\n",
        "              [4, 6, 6, 8],\n",
        "              [3, 1, 1, 0],\n",
        "              [1, 2, 2, 4]])\n",
        "\n",
        "K = np.array([[1, 0, -1],\n",
        "              [1, -1, 0],\n",
        "              [1, 0, -1]])"
      ],
      "metadata": {
        "id": "93n9PlSEtWze"
      },
      "execution_count": null,
      "outputs": []
    },
    {
      "cell_type": "code",
      "source": [
        "# Given weight values\n",
        "W = np.array([0.4, 0.2, 0.3, 0.6])  # Adjust if needed\n",
        "b = 0.1  # Some bias term\n"
      ],
      "metadata": {
        "id": "s4sJauS-tgSH"
      },
      "execution_count": null,
      "outputs": []
    },
    {
      "cell_type": "code",
      "source": [
        "# Forward Pass\n",
        "conv_output, flattened, z, y_pred = forward_pass(X, K, W, b)\n",
        "\n",
        "print(\"Convolution Output:\")\n",
        "print(conv_output)\n",
        "print(\"\\nFlattened Output:\")\n",
        "print(flattened)\n",
        "print(\"\\nFinal Prediction:\", y_pred)"
      ],
      "metadata": {
        "colab": {
          "base_uri": "https://localhost:8080/"
        },
        "id": "40YsPZMw39Zh",
        "outputId": "32e93341-81a3-44b9-deec-5b94c30dcd27"
      },
      "execution_count": null,
      "outputs": [
        {
          "output_type": "stream",
          "name": "stdout",
          "text": [
            "Convolution Output:\n",
            "[[-1. -2.]\n",
            " [-1. -4.]]\n",
            "\n",
            "Flattened Output:\n",
            "[-1. -2. -1. -4.]\n",
            "\n",
            "Final Prediction: 0.032295464698450516\n"
          ]
        }
      ]
    },
    {
      "cell_type": "code",
      "source": [
        "def sigmoid_derivative(z):\n",
        "    return sigmoid(z) * (1 - sigmoid(z))\n",
        "\n",
        "def backpropagation(flattened, W, b, y_pred, y_target, learning_rate=0.01):\n",
        "    # Compute loss gradient\n",
        "    error = y_pred - y_target  # dL/dy_pred\n",
        "    dL_dz = error * sigmoid_derivative(y_pred)  # dL/dz\n",
        "\n",
        "    # Compute gradients\n",
        "    dL_dW = dL_dz * flattened  # dL/dW\n",
        "    dL_db = dL_dz  # dL/db\n",
        "\n",
        "    # Update weights and bias\n",
        "    W -= learning_rate * dL_dW\n",
        "    b -= learning_rate * dL_db\n",
        "\n",
        "    return W, b"
      ],
      "metadata": {
        "id": "sa6ebiLG4LYB"
      },
      "execution_count": null,
      "outputs": []
    },
    {
      "cell_type": "code",
      "source": [
        "# Define y_target before running backpropagation\n",
        "y_target = 5  # Given target value\n",
        "\n",
        "# Update Weights (Backpropagation)\n",
        "W, b = backpropagation(flattened, W, b, y_pred, y_target)\n",
        "\n",
        "print(\"\\nUpdated Weights:\", W)\n",
        "print(\"Updated Bias:\", b)"
      ],
      "metadata": {
        "colab": {
          "base_uri": "https://localhost:8080/"
        },
        "id": "3A0b1mhA9OgA",
        "outputId": "2839da15-9f65-47dd-abbf-fa4b0513e6cf"
      },
      "execution_count": null,
      "outputs": [
        {
          "output_type": "stream",
          "name": "stdout",
          "text": [
            "\n",
            "Updated Weights: [0.38758398 0.17516795 0.28758398 0.55033591]\n",
            "Updated Bias: 0.11241602358789192\n"
          ]
        }
      ]
    }
  ]
}