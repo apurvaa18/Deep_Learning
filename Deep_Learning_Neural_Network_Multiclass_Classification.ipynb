{
  "cells": [
    {
      "cell_type": "markdown",
      "id": "6da6b7eb",
      "metadata": {
        "id": "6da6b7eb"
      },
      "source": [
        "\n",
        "\n"
      ]
    },
    {
      "cell_type": "markdown",
      "id": "9b9b6338",
      "metadata": {
        "id": "9b9b6338"
      },
      "source": [
        "<b>Create a neural network from scratch for a multiclass classification task with the following architecture:<br><b>\n",
        "Input layer: 4 neurons<br>\n",
        "First hidden layer: 3 neurons<br>\n",
        "Second hidden layer: 4 neurons<br>\n",
        "Output layer: 3 neurons<br>\n",
        "Generate a random dataset for a 3-class classification problem. Apply the designed neural network on generated dataset using the ReLU activation function in the hidden layers and the softmax activation function in the output\n",
        "layer for multiclass classification. Use categorical cross-entropy as the loss function for training. Additionally, implement the Gradient Descent, Momentum based GD, NAG, AdaGrad, RMS prop, Adam optimizer as part of the training\n",
        "process. Train the neural network using all optimizers and evaluate their performance on the dataset using performance metrics accuracy."
      ]
    },
    {
      "cell_type": "markdown",
      "id": "dca0c588",
      "metadata": {
        "id": "dca0c588"
      },
      "source": [
        "## Part 1: Dataset Generation"
      ]
    },
    {
      "cell_type": "code",
      "execution_count": null,
      "id": "e425722f",
      "metadata": {
        "colab": {
          "base_uri": "https://localhost:8080/"
        },
        "id": "e425722f",
        "outputId": "39aa5548-d14d-4d35-8354-11514b8a6009"
      },
      "outputs": [
        {
          "name": "stdout",
          "output_type": "stream",
          "text": [
            "   Feature1  Feature2  Feature3  Feature4  Class\n",
            "0 -0.763577 -1.376368 -1.329212 -0.811226      2\n",
            "1  0.798776  1.479103 -0.123530 -1.829664      1\n",
            "2  0.251711 -1.183120  1.436410 -1.228790      0\n",
            "3 -0.628048 -1.596094 -0.400482 -0.344888      2\n",
            "4 -0.179159 -1.202407  0.872089  0.185406      0\n",
            "Training data shape: (800, 4)\n",
            "Testing data shape: (200, 4)\n",
            "One-hot encoded labels:\n",
            "[[0. 0. 1.]\n",
            " [0. 1. 0.]\n",
            " [1. 0. 0.]\n",
            " [0. 0. 1.]\n",
            " [1. 0. 0.]]\n"
          ]
        }
      ],
      "source": [
        "import numpy as np\n",
        "import pandas as pd\n",
        "from sklearn.datasets import make_classification\n",
        "from sklearn.preprocessing import OneHotEncoder\n",
        "from sklearn.model_selection import train_test_split\n",
        "\n",
        "# Generate dataset with 1000 records, 4 features, and 3 classes\n",
        "X, y = make_classification(\n",
        "    n_samples=1000, n_features=4, n_classes=3, n_informative=3, n_redundant=1, random_state=42\n",
        ")\n",
        "\n",
        "# Reshape labels for encoding\n",
        "y = y.reshape(-1, 1)\n",
        "\n",
        "# One-hot encode the labels\n",
        "encoder = OneHotEncoder(sparse_output=False)  # Use sparse_output=False\n",
        "y_encoded = encoder.fit_transform(y)\n",
        "\n",
        "# Create a DataFrame for better readability\n",
        "df = pd.DataFrame(X, columns=[\"Feature1\", \"Feature2\", \"Feature3\", \"Feature4\"])\n",
        "df['Class'] = encoder.inverse_transform(y_encoded)\n",
        "\n",
        "# Display the first 5 records of the dataset\n",
        "print(df.head())\n",
        "\n",
        "# Train-test split\n",
        "X_train, X_test, y_train, y_test = train_test_split(X, y_encoded, test_size=0.2, random_state=42)\n",
        "\n",
        "print(f\"Training data shape: {X_train.shape}\")\n",
        "print(f\"Testing data shape: {X_test.shape}\")\n",
        "print(f\"One-hot encoded labels:\\n{y_encoded[:5]}\")\n",
        "\n",
        "\n"
      ]
    },
    {
      "cell_type": "markdown",
      "id": "7a07f52d",
      "metadata": {
        "id": "7a07f52d"
      },
      "source": [
        "## Part 2: Neural Network Initialization"
      ]
    },
    {
      "cell_type": "code",
      "execution_count": null,
      "id": "a72fc33e",
      "metadata": {
        "colab": {
          "base_uri": "https://localhost:8080/"
        },
        "id": "a72fc33e",
        "outputId": "af045bbf-fe19-4b57-a76a-13e1aa1eae18"
      },
      "outputs": [
        {
          "name": "stdout",
          "output_type": "stream",
          "text": [
            "W1 shape: (4, 3)\n",
            "b1 shape: (1, 3)\n",
            "W2 shape: (3, 4)\n",
            "b2 shape: (1, 4)\n",
            "W3 shape: (4, 3)\n",
            "b3 shape: (1, 3)\n"
          ]
        }
      ],
      "source": [
        "def initialize_parameters():\n",
        "    np.random.seed(42)  # For reproducibility\n",
        "    parameters = {\n",
        "        \"W1\": np.random.randn(4, 3) * 0.01,  # Weights for input -> first hidden layer\n",
        "        \"b1\": np.zeros((1, 3)),             # Bias for first hidden layer\n",
        "        \"W2\": np.random.randn(3, 4) * 0.01, # Weights for first -> second hidden layer\n",
        "        \"b2\": np.zeros((1, 4)),             # Bias for second hidden layer\n",
        "        \"W3\": np.random.randn(4, 3) * 0.01, # Weights for second hidden -> output layer\n",
        "        \"b3\": np.zeros((1, 3))              # Bias for output layer\n",
        "    }\n",
        "    return parameters\n",
        "\n",
        "# Initialize parameters\n",
        "parameters = initialize_parameters()\n",
        "\n",
        "# Display initialized parameters\n",
        "for key, value in parameters.items():\n",
        "    print(f\"{key} shape: {value.shape}\")\n",
        "\n"
      ]
    },
    {
      "cell_type": "markdown",
      "id": "b63e4670",
      "metadata": {
        "id": "b63e4670"
      },
      "source": [
        "## Part 3: Activation Functions"
      ]
    },
    {
      "cell_type": "code",
      "execution_count": null,
      "id": "aa8b6b4f",
      "metadata": {
        "id": "aa8b6b4f"
      },
      "outputs": [],
      "source": [
        "def relu(Z):\n",
        "    return np.maximum(0, Z)\n",
        "\n",
        "def softmax(Z):\n",
        "    exp_values = np.exp(Z - np.max(Z, axis=1, keepdims=True))  # Numerical stability\n",
        "    return exp_values / np.sum(exp_values, axis=1, keepdims=True)\n",
        "\n",
        "def forward_propagation(X, parameters):\n",
        "    # First hidden layer\n",
        "    Z1 = np.dot(X, parameters[\"W1\"]) + parameters[\"b1\"]\n",
        "    A1 = relu(Z1)\n",
        "\n",
        "    # Second hidden layer\n",
        "    Z2 = np.dot(A1, parameters[\"W2\"]) + parameters[\"b2\"]\n",
        "    A2 = relu(Z2)\n",
        "\n",
        "    # Output layer\n",
        "    Z3 = np.dot(A2, parameters[\"W3\"]) + parameters[\"b3\"]\n",
        "    A3 = softmax(Z3)\n",
        "\n",
        "    # Store intermediate values for backpropagation\n",
        "    cache = {\"Z1\": Z1, \"A1\": A1, \"Z2\": Z2, \"A2\": A2, \"Z3\": Z3, \"A3\": A3}\n",
        "    return A3, cache\n"
      ]
    },
    {
      "cell_type": "code",
      "execution_count": null,
      "id": "57057efa",
      "metadata": {
        "colab": {
          "base_uri": "https://localhost:8080/"
        },
        "id": "57057efa",
        "outputId": "44fe13f1-4a21-4d43-b8be-144a4311da76"
      },
      "outputs": [
        {
          "name": "stdout",
          "output_type": "stream",
          "text": [
            "Output predictions shape: (800, 3)\n",
            "First 5 predictions:\n",
            "[[0.33333341 0.33333327 0.33333332]\n",
            " [0.33333333 0.33333333 0.33333333]\n",
            " [0.33333333 0.33333336 0.33333331]\n",
            " [0.33333332 0.33333354 0.33333315]\n",
            " [0.33333333 0.33333333 0.33333333]]\n"
          ]
        }
      ],
      "source": [
        "# Test forward propagation\n",
        "A3, cache = forward_propagation(X_train, parameters)\n",
        "\n",
        "# Display the shape of output predictions\n",
        "print(f\"Output predictions shape: {A3.shape}\")\n",
        "\n",
        "# Display first 5 predictions\n",
        "print(f\"First 5 predictions:\\n{A3[:5]}\")\n"
      ]
    },
    {
      "cell_type": "markdown",
      "id": "ead68b64",
      "metadata": {
        "id": "ead68b64"
      },
      "source": [
        "## Part 4: Implement Loss calculation"
      ]
    },
    {
      "cell_type": "code",
      "execution_count": null,
      "id": "8e26fa1f",
      "metadata": {
        "colab": {
          "base_uri": "https://localhost:8080/"
        },
        "id": "8e26fa1f",
        "outputId": "cf12c8b7-d399-4cf9-f952-67cde3d1e724"
      },
      "outputs": [
        {
          "name": "stdout",
          "output_type": "stream",
          "text": [
            "Initial loss: 1.09861221465594\n"
          ]
        }
      ],
      "source": [
        "def compute_loss(y_true, y_pred):\n",
        "    m = y_true.shape[0]  # Number of samples\n",
        "    loss = -np.sum(y_true * np.log(y_pred + 1e-8)) / m  # Add epsilon for numerical stability\n",
        "    return loss\n",
        "\n",
        "# Test loss calculation\n",
        "loss = compute_loss(y_train, A3)\n",
        "\n",
        "# Display the calculated loss\n",
        "print(f\"Initial loss: {loss}\")\n"
      ]
    },
    {
      "cell_type": "markdown",
      "id": "4d292813",
      "metadata": {
        "id": "4d292813"
      },
      "source": [
        "## Step 5: Implement Backward Propagation"
      ]
    },
    {
      "cell_type": "code",
      "execution_count": null,
      "id": "b9e97863",
      "metadata": {
        "id": "b9e97863"
      },
      "outputs": [],
      "source": [
        "def relu_derivative(Z):\n",
        "    return Z > 0  # Gradient of ReLU: 1 for Z > 0, otherwise 0\n",
        "\n",
        "def backward_propagation(X, Y, parameters, cache):\n",
        "    m = X.shape[0]  # Number of samples\n",
        "\n",
        "    # Gradients for the output layer\n",
        "    dZ3 = cache[\"A3\"] - Y\n",
        "    dW3 = np.dot(cache[\"A2\"].T, dZ3) / m\n",
        "    db3 = np.sum(dZ3, axis=0, keepdims=True) / m\n",
        "\n",
        "    # Gradients for the second hidden layer\n",
        "    dZ2 = np.dot(dZ3, parameters[\"W3\"].T) * relu_derivative(cache[\"Z2\"])\n",
        "    dW2 = np.dot(cache[\"A1\"].T, dZ2) / m\n",
        "    db2 = np.sum(dZ2, axis=0, keepdims=True) / m\n",
        "\n",
        "    # Gradients for the first hidden layer\n",
        "    dZ1 = np.dot(dZ2, parameters[\"W2\"].T) * relu_derivative(cache[\"Z1\"])\n",
        "    dW1 = np.dot(X.T, dZ1) / m\n",
        "    db1 = np.sum(dZ1, axis=0, keepdims=True) / m\n",
        "\n",
        "    # Store gradients in a dictionary\n",
        "    gradients = {\n",
        "        \"dW1\": dW1, \"db1\": db1,\n",
        "        \"dW2\": dW2, \"db2\": db2,\n",
        "        \"dW3\": dW3, \"db3\": db3\n",
        "    }\n",
        "    return gradients\n",
        "\n"
      ]
    },
    {
      "cell_type": "code",
      "execution_count": null,
      "id": "037e2462",
      "metadata": {
        "colab": {
          "base_uri": "https://localhost:8080/"
        },
        "id": "037e2462",
        "outputId": "9edd30d2-c244-4c9e-ac8e-57e715d1ee29"
      },
      "outputs": [
        {
          "name": "stdout",
          "output_type": "stream",
          "text": [
            "dW1 shape: (4, 3)\n",
            "db1 shape: (1, 3)\n",
            "dW2 shape: (3, 4)\n",
            "db2 shape: (1, 4)\n",
            "dW3 shape: (4, 3)\n",
            "db3 shape: (1, 3)\n"
          ]
        }
      ],
      "source": [
        "# Test backward propagation\n",
        "gradients = backward_propagation(X_train, y_train, parameters, cache)\n",
        "\n",
        "# Display the shapes of gradients\n",
        "for key, value in gradients.items():\n",
        "    print(f\"{key} shape: {value.shape}\")\n"
      ]
    },
    {
      "cell_type": "markdown",
      "id": "76ee557b",
      "metadata": {
        "id": "76ee557b"
      },
      "source": [
        "## Step 6: Gradient Descent Optimization and Training"
      ]
    },
    {
      "cell_type": "code",
      "execution_count": null,
      "id": "8e30bc86",
      "metadata": {
        "id": "8e30bc86"
      },
      "outputs": [],
      "source": [
        "# Define the optimizers\n",
        "optimizers = {\n",
        "    'SGD': lambda params, grads, lr: {\n",
        "        key: params[key] - lr * grads['d' + key]\n",
        "        for key in params\n",
        "    },\n",
        "    'Momentum': lambda params, grads, lr, state=None, beta1=0.9: (\n",
        "        {\n",
        "            key: params[key] - lr * (\n",
        "                beta1 * state.get(key, 0) + (1 - beta1) * grads['d' + key]\n",
        "            )\n",
        "            for key in params\n",
        "        },\n",
        "        state if state else {key: 0 for key in params}\n",
        "    ),\n",
        "    'NAG': lambda params, grads, lr, state=None, beta1=0.9: (\n",
        "        {\n",
        "            key: params[key] - lr * (\n",
        "                beta1 * state.get(key, 0) + (1 - beta1) * grads['d' + key]\n",
        "            )\n",
        "            for key in params\n",
        "        },\n",
        "        {\n",
        "            key: beta1 * state.get(key, 0) + (1 - beta1) * grads['d' + key]\n",
        "            for key in params\n",
        "        }\n",
        "    ),\n",
        "    'AdaGrad': lambda params, grads, lr, state=None, epsilon=1e-8: (\n",
        "        {\n",
        "            key: params[key] - lr * grads['d' + key] / (\n",
        "                (state.get(key, 0) + grads['d' + key] ** 2 + epsilon) ** 0.5\n",
        "            )\n",
        "            for key in params\n",
        "        },\n",
        "        state if state else {key: 0 for key in params}\n",
        "    ),\n",
        "    'RMSprop': lambda params, grads, lr, state=None, beta1=0.9, epsilon=1e-8: (\n",
        "        {\n",
        "            key: params[key] - lr * grads['d' + key] / (\n",
        "                (beta1 * state.get(key, 0) + (1 - beta1) * grads['d' + key] ** 2 + epsilon) ** 0.5\n",
        "            )\n",
        "            for key in params\n",
        "        },\n",
        "        state if state else {key: 0 for key in params}\n",
        "    ),\n",
        "    'Adam': lambda params, grads, lr, state=None, beta1=0.9, beta2=0.999, epsilon=1e-8: (\n",
        "        {\n",
        "            key: params[key] - lr * (\n",
        "                (m := beta1 * state[key]['m'] + (1 - beta1) * grads['d' + key]) / (1 - beta1)\n",
        "            ) / (\n",
        "                (v := beta2 * state[key]['v'] + (1 - beta2) * grads['d' + key] ** 2) / (1 - beta2) + epsilon\n",
        "            ) ** 0.5\n",
        "            for key in params\n",
        "        },\n",
        "        {key: {'m': m, 'v': v} for key in params} if state else {key: {'m': 0, 'v': 0} for key in params}\n",
        "    )\n",
        "}"
      ]
    },
    {
      "cell_type": "code",
      "execution_count": null,
      "id": "bd7fcdb0",
      "metadata": {
        "id": "bd7fcdb0"
      },
      "outputs": [],
      "source": [
        "\n",
        "import numpy as np\n",
        "\n",
        "def update_parameters(parameters, gradients, learning_rate=0.01, optimizer='SGD', state=None, beta1=0.9, beta2=0.999, epsilon=1e-8):\n",
        "    if optimizer == 'SGD':  # Standard Gradient Descent\n",
        "        for key in parameters:\n",
        "            parameters[key] -= learning_rate * gradients['d' + key]\n",
        "\n",
        "    elif optimizer == 'Momentum':  # Momentum-based Gradient Descent\n",
        "        if state is None:\n",
        "            state = {key: np.zeros_like(parameters[key]) for key in parameters}\n",
        "        for key in parameters:\n",
        "            state[key] = beta1 * state[key] + (1 - beta1) * gradients['d' + key]\n",
        "            parameters[key] -= learning_rate * state[key]\n",
        "\n",
        "    elif optimizer == 'NAG':  # Nesterov Accelerated Gradient\n",
        "        if state is None:\n",
        "            state = {key: np.zeros_like(parameters[key]) for key in parameters}\n",
        "        temp_params = {key: parameters[key] - beta1 * state[key] for key in parameters}\n",
        "        for key in parameters:\n",
        "            state[key] = beta1 * state[key] + (1 - beta1) * gradients['d' + key]\n",
        "            parameters[key] -= learning_rate * state[key]\n",
        "\n",
        "    elif optimizer == 'Adagrad':  # Adagrad\n",
        "        if state is None:\n",
        "            state = {key: np.zeros_like(parameters[key]) for key in parameters}\n",
        "        for key in parameters:\n",
        "            state[key] += gradients['d' + key] ** 2\n",
        "            parameters[key] -= learning_rate * gradients['d' + key] / (np.sqrt(state[key]) + epsilon)\n",
        "\n",
        "    elif optimizer == 'RMSprop':  # RMSprop\n",
        "        if state is None:\n",
        "            state = {key: np.zeros_like(parameters[key]) for key in parameters}\n",
        "        for key in parameters:\n",
        "            state[key] = beta1 * state[key] + (1 - beta1) * (gradients['d' + key] ** 2)\n",
        "            parameters[key] -= learning_rate * gradients['d' + key] / (np.sqrt(state[key]) + epsilon)\n",
        "\n",
        "    elif optimizer == 'Adam':  # Adam Optimizer\n",
        "        if state is None:\n",
        "            state = {key: {'m': np.zeros_like(parameters[key]), 'v': np.zeros_like(parameters[key])} for key in parameters}\n",
        "        for key in parameters:\n",
        "            state[key]['m'] = beta1 * state[key]['m'] + (1 - beta1) * gradients['d' + key]\n",
        "            state[key]['v'] = beta2 * state[key]['v'] + (1 - beta2) * (gradients['d' + key] ** 2)\n",
        "            m_corrected = state[key]['m'] / (1 - beta1)  # Bias correction for momentum\n",
        "            v_corrected = state[key]['v'] / (1 - beta2)  # Bias correction for RMSprop\n",
        "            parameters[key] -= learning_rate * m_corrected / (np.sqrt(v_corrected) + epsilon)\n",
        "\n",
        "    return parameters, state  # Return updated parameters and state\n"
      ]
    },
    {
      "cell_type": "markdown",
      "id": "b3284701",
      "metadata": {
        "id": "b3284701"
      },
      "source": [
        "## Step 7: Evaluating the Model's Performance"
      ]
    },
    {
      "cell_type": "code",
      "execution_count": null,
      "id": "a5e77269",
      "metadata": {
        "colab": {
          "base_uri": "https://localhost:8080/"
        },
        "id": "a5e77269",
        "outputId": "1dcc461f-ca9a-4514-c58d-bc1f087638ec"
      },
      "outputs": [
        {
          "name": "stdout",
          "output_type": "stream",
          "text": [
            "Epoch: 0, Loss: 1.0986\n",
            "Epoch: 100, Loss: 1.0986\n",
            "Epoch: 200, Loss: 1.0986\n",
            "Epoch: 300, Loss: 1.0986\n",
            "Epoch: 400, Loss: 1.0986\n",
            "Epoch: 500, Loss: 1.0986\n",
            "Epoch: 600, Loss: 1.0986\n",
            "Epoch: 700, Loss: 1.0986\n",
            "Epoch: 800, Loss: 1.0986\n",
            "Epoch: 900, Loss: 1.0986\n",
            "Test accuracy: 37.00%\n"
          ]
        }
      ],
      "source": [
        "def predict(X, parameters):\n",
        "    # Perform forward propagation to get predictions\n",
        "    A3, _ = forward_propagation(X, parameters)\n",
        "\n",
        "    # Get the predicted class by choosing the class with the highest probability\n",
        "    predictions = np.argmax(A3, axis=1)\n",
        "    return predictions\n",
        "\n",
        "def compute_accuracy(y_true, y_pred):\n",
        "    # Calculate accuracy by comparing predicted and true labels\n",
        "    correct_predictions = np.sum(np.argmax(y_true, axis=1) == y_pred)\n",
        "    accuracy = correct_predictions / y_true.shape[0] * 100\n",
        "    return accuracy\n",
        "\n",
        "# Test the model on the test set\n",
        "num_epochs = 1000  # Number of training iterations\n",
        "learning_rate = 0.01\n",
        "optimizer = 'Adam'  # Choose your desired optimizer\n",
        "state = None  # Initialize state for optimizers with state\n",
        "parameters_trained = parameters.copy()  # Initialize trained parameters\n",
        "for epoch in range(num_epochs):\n",
        "  # Forward propagation\n",
        "  A3, cache = forward_propagation(X_train, parameters_trained)\n",
        "\n",
        "  # Compute loss\n",
        "  loss = compute_loss(y_train, A3)\n",
        "\n",
        "  # Backward propagation\n",
        "  gradients = backward_propagation(X_train, y_train, parameters_trained, cache)\n",
        "\n",
        "  # Update parameters\n",
        "  parameters_trained, state = update_parameters(parameters_trained, gradients, learning_rate, optimizer, state)\n",
        "\n",
        "  # Print loss every 100 epochs\n",
        "  if epoch % 100 == 0:\n",
        "    print(f\"Epoch: {epoch}, Loss: {loss:.4f}\")\n",
        "\n",
        "  # Test the model on the test set (Now using trained parameters)\n",
        "  y_pred = predict(X_test, parameters_trained)\n",
        "\n",
        "# Calculate the accuracy\n",
        "accuracy = compute_accuracy(y_test, y_pred)\n",
        "\n",
        "# Display the accuracy\n",
        "print(f\"Test accuracy: {accuracy:.2f}%\")\n"
      ]
    },
    {
      "cell_type": "code",
      "execution_count": null,
      "id": "0749097a",
      "metadata": {
        "id": "0749097a"
      },
      "outputs": [],
      "source": [
        "from sklearn.linear_model import LogisticRegression\n",
        "from sklearn.model_selection import GridSearchCV\n",
        "from sklearn.metrics import classification_report\n"
      ]
    },
    {
      "cell_type": "markdown",
      "id": "254eb258",
      "metadata": {
        "id": "254eb258"
      },
      "source": [
        "## 8. Model Tuning"
      ]
    },
    {
      "cell_type": "code",
      "execution_count": null,
      "id": "b3a49b7a",
      "metadata": {
        "colab": {
          "base_uri": "https://localhost:8080/"
        },
        "id": "b3a49b7a",
        "outputId": "34d83e0e-573c-493b-d604-9d03d4b055d4"
      },
      "outputs": [
        {
          "name": "stdout",
          "output_type": "stream",
          "text": [
            "Index(['Feature1', 'Feature2', 'Feature3', 'Feature4', 'Class'], dtype='object')\n",
            "Best Hyperparameters: {'C': 1, 'solver': 'liblinear'}\n",
            "Accuracy: 64.00%\n"
          ]
        }
      ],
      "source": [
        "import numpy as np\n",
        "import pandas as pd\n",
        "from sklearn.model_selection import train_test_split\n",
        "from sklearn.linear_model import LogisticRegression\n",
        "from sklearn.model_selection import GridSearchCV\n",
        "from sklearn.metrics import accuracy_score\n",
        "\n",
        "# Assuming your dataset is loaded into a pandas DataFrame 'df'\n",
        "# Example: df = pd.read_csv('your_data.csv')\n",
        "\n",
        "# Print column names to verify the correct column name\n",
        "print(df.columns)\n",
        "\n",
        "# Replace 'target_column_name' with 'Class' as the actual target column\n",
        "target_column_name = 'Class'\n",
        "\n",
        "# Split the data into features and target\n",
        "X = df.drop(target_column_name, axis=1)  # Features (drop target column)\n",
        "y = df[target_column_name]  # Target column ('Class')\n",
        "\n",
        "# Ensure y is a 1D array\n",
        "y = y.values.flatten()\n",
        "\n",
        "# Split the data into training and testing sets\n",
        "X_train, X_test, y_train, y_test = train_test_split(X, y, test_size=0.2, random_state=42)\n",
        "\n",
        "# Hyperparameter tuning using GridSearchCV (for Logistic Regression)\n",
        "param_grid = {\n",
        "    'C': [0.1, 1, 10, 100],  # Regularization strength\n",
        "    'solver': ['liblinear', 'lbfgs'],  # Solvers to choose from\n",
        "}\n",
        "\n",
        "# Initialize GridSearchCV with Logistic Regression\n",
        "grid_search = GridSearchCV(LogisticRegression(max_iter=1000, random_state=42), param_grid, cv=5, n_jobs=-1)\n",
        "\n",
        "# Fit the model with training data\n",
        "grid_search.fit(X_train, y_train)\n",
        "\n",
        "# Best hyperparameters found by GridSearchCV\n",
        "print(\"Best Hyperparameters:\", grid_search.best_params_)\n",
        "\n",
        "# Make predictions using the best model\n",
        "y_pred = grid_search.best_estimator_.predict(X_test)\n",
        "\n",
        "# Evaluate the model\n",
        "accuracy = accuracy_score(y_test, y_pred)\n",
        "print(f'Accuracy: {accuracy * 100:.2f}%')\n",
        "\n"
      ]
    },
    {
      "cell_type": "markdown",
      "id": "2feac6b1",
      "metadata": {
        "id": "2feac6b1"
      },
      "source": [
        "## Step 9: Evaluate the Model"
      ]
    },
    {
      "cell_type": "code",
      "execution_count": null,
      "id": "10bc21d7",
      "metadata": {
        "colab": {
          "base_uri": "https://localhost:8080/"
        },
        "id": "10bc21d7",
        "outputId": "b65686be-5400-4460-8cbb-b5529c5a5cbb"
      },
      "outputs": [
        {
          "name": "stdout",
          "output_type": "stream",
          "text": [
            "Requirement already satisfied: matplotlib in /usr/local/lib/python3.11/dist-packages (3.10.0)\n",
            "Requirement already satisfied: seaborn in /usr/local/lib/python3.11/dist-packages (0.13.2)\n",
            "Requirement already satisfied: scikit-learn in /usr/local/lib/python3.11/dist-packages (1.6.1)\n",
            "Requirement already satisfied: contourpy>=1.0.1 in /usr/local/lib/python3.11/dist-packages (from matplotlib) (1.3.1)\n",
            "Requirement already satisfied: cycler>=0.10 in /usr/local/lib/python3.11/dist-packages (from matplotlib) (0.12.1)\n",
            "Requirement already satisfied: fonttools>=4.22.0 in /usr/local/lib/python3.11/dist-packages (from matplotlib) (4.55.8)\n",
            "Requirement already satisfied: kiwisolver>=1.3.1 in /usr/local/lib/python3.11/dist-packages (from matplotlib) (1.4.8)\n",
            "Requirement already satisfied: numpy>=1.23 in /usr/local/lib/python3.11/dist-packages (from matplotlib) (1.26.4)\n",
            "Requirement already satisfied: packaging>=20.0 in /usr/local/lib/python3.11/dist-packages (from matplotlib) (24.2)\n",
            "Requirement already satisfied: pillow>=8 in /usr/local/lib/python3.11/dist-packages (from matplotlib) (11.1.0)\n",
            "Requirement already satisfied: pyparsing>=2.3.1 in /usr/local/lib/python3.11/dist-packages (from matplotlib) (3.2.1)\n",
            "Requirement already satisfied: python-dateutil>=2.7 in /usr/local/lib/python3.11/dist-packages (from matplotlib) (2.8.2)\n",
            "Requirement already satisfied: pandas>=1.2 in /usr/local/lib/python3.11/dist-packages (from seaborn) (2.2.2)\n",
            "Requirement already satisfied: scipy>=1.6.0 in /usr/local/lib/python3.11/dist-packages (from scikit-learn) (1.13.1)\n",
            "Requirement already satisfied: joblib>=1.2.0 in /usr/local/lib/python3.11/dist-packages (from scikit-learn) (1.4.2)\n",
            "Requirement already satisfied: threadpoolctl>=3.1.0 in /usr/local/lib/python3.11/dist-packages (from scikit-learn) (3.5.0)\n",
            "Requirement already satisfied: pytz>=2020.1 in /usr/local/lib/python3.11/dist-packages (from pandas>=1.2->seaborn) (2025.1)\n",
            "Requirement already satisfied: tzdata>=2022.7 in /usr/local/lib/python3.11/dist-packages (from pandas>=1.2->seaborn) (2025.1)\n",
            "Requirement already satisfied: six>=1.5 in /usr/local/lib/python3.11/dist-packages (from python-dateutil>=2.7->matplotlib) (1.17.0)\n"
          ]
        }
      ],
      "source": [
        "pip install matplotlib seaborn scikit-learn\n"
      ]
    },
    {
      "cell_type": "code",
      "execution_count": null,
      "id": "a384d29f",
      "metadata": {
        "colab": {
          "base_uri": "https://localhost:8080/",
          "height": 1000
        },
        "id": "a384d29f",
        "outputId": "c630c869-a509-415c-fb99-dff4381f35af"
      },
      "outputs": [
        {
          "name": "stdout",
          "output_type": "stream",
          "text": [
            "Classification Report:\n",
            "               precision    recall  f1-score   support\n",
            "\n",
            "           0       0.89      0.88      0.88        65\n",
            "           1       0.81      0.92      0.86        62\n",
            "           2       0.92      0.84      0.88        73\n",
            "\n",
            "    accuracy                           0.88       200\n",
            "   macro avg       0.88      0.88      0.88       200\n",
            "weighted avg       0.88      0.88      0.88       200\n",
            "\n",
            "ROC-AUC (Macro Average): 0.48\n"
          ]
        },
        {
          "data": {
            "image/png": "[encoded data removed]",
            "text/plain": [
              "<Figure size 1000x800 with 1 Axes>"
            ]
          },
          "metadata": {},
          "output_type": "display_data"
        },
        {
          "data": {
            "image/png": "[encoded data removed]",
            "text/plain": [
              "<Figure size 800x600 with 2 Axes>"
            ]
          },
          "metadata": {},
          "output_type": "display_data"
        },
        {
          "data": {
            "image/png": "[encoded data removed]",
            "text/plain": [
              "<Figure size 1000x600 with 1 Axes>"
            ]
          },
          "metadata": {},
          "output_type": "display_data"
        }
      ],
      "source": [
        "import pandas as pd\n",
        "import matplotlib.pyplot as plt\n",
        "from sklearn.model_selection import train_test_split\n",
        "from sklearn.preprocessing import StandardScaler, label_binarize\n",
        "from sklearn.metrics import classification_report, roc_auc_score, confusion_matrix, roc_curve\n",
        "from sklearn.ensemble import RandomForestClassifier\n",
        "from sklearn.model_selection import GridSearchCV\n",
        "import seaborn as sns\n",
        "\n",
        "# Assuming your dataset is loaded into a pandas DataFrame 'df'\n",
        "# Example: df = pd.read_csv('your_data.csv')\n",
        "\n",
        "# Specify the target column and features\n",
        "target_column_name = 'Class'  # Replace this with the actual name of your target column\n",
        "X = df.drop(target_column_name, axis=1)\n",
        "y = df[target_column_name]\n",
        "\n",
        "# Step 1: Split the data into training and testing sets\n",
        "X_train, X_test, y_train, y_test = train_test_split(X, y, test_size=0.2, random_state=42)\n",
        "\n",
        "# Step 2: Feature scaling\n",
        "scaler = StandardScaler()\n",
        "X_train = scaler.fit_transform(X_train)\n",
        "X_test = scaler.transform(X_test)\n",
        "\n",
        "# Step 3: Train a Random Forest classifier (or any model you prefer)\n",
        "clf = RandomForestClassifier(random_state=42)\n",
        "param_grid = {'n_estimators': [100, 200], 'max_depth': [10, 20, None]}  # Example hyperparameters\n",
        "grid_search = GridSearchCV(clf, param_grid, cv=3)\n",
        "grid_search.fit(X_train, y_train)\n",
        "\n",
        "# Step 4: Make predictions\n",
        "y_pred = grid_search.best_estimator_.predict(X_test)\n",
        "\n",
        "# Step 5: Print classification report\n",
        "class_report = classification_report(y_test, y_pred)\n",
        "print(\"Classification Report:\\n\", class_report)\n",
        "\n",
        "# Step 6: Compute ROC-AUC for multi-class classification\n",
        "# Convert labels to binary format\n",
        "y_test_bin = label_binarize(y_test, classes=df[target_column_name].unique())\n",
        "y_pred_prob = grid_search.best_estimator_.predict_proba(X_test)\n",
        "\n",
        "# Compute ROC-AUC score (Macro average for multi-class classification)\n",
        "roc_auc = roc_auc_score(y_test_bin, y_pred_prob, average='macro', multi_class='ovr')\n",
        "print(f\"ROC-AUC (Macro Average): {roc_auc:.2f}\")\n",
        "\n",
        "# Step 7: Plot ROC Curve for each class\n",
        "plt.figure(figsize=(10, 8))\n",
        "fpr, tpr, _ = roc_curve(y_test_bin[:, 0], y_pred_prob[:, 0])  # Adjust for each class\n",
        "plt.plot(fpr, tpr, label=f'Class 0 (AUC = {roc_auc:.2f})')  # Adjust for each class\n",
        "for i in range(1, y_test_bin.shape[1]):\n",
        "    fpr, tpr, _ = roc_curve(y_test_bin[:, i], y_pred_prob[:, i])\n",
        "    plt.plot(fpr, tpr, label=f'Class {i} (AUC = {roc_auc:.2f})')\n",
        "plt.plot([0, 1], [0, 1], linestyle='--', color='gray')\n",
        "plt.xlabel('False Positive Rate')\n",
        "plt.ylabel('True Positive Rate')\n",
        "plt.title('ROC Curve for Each Class')\n",
        "plt.legend(loc='lower right')\n",
        "plt.show()\n",
        "\n",
        "# Step 8: Plot Confusion Matrix\n",
        "conf_matrix = confusion_matrix(y_test, y_pred)\n",
        "plt.figure(figsize=(8, 6))\n",
        "sns.heatmap(conf_matrix, annot=True, fmt='d', cmap='Blues', xticklabels=df[target_column_name].unique(), yticklabels=df[target_column_name].unique())\n",
        "plt.title('Confusion Matrix')\n",
        "plt.xlabel('Predicted Labels')\n",
        "plt.ylabel('True Labels')\n",
        "plt.show()\n",
        "\n",
        "# Step 9: Plot Feature Importances (for RandomForest)\n",
        "feature_importances = grid_search.best_estimator_.feature_importances_\n",
        "features = X.columns\n",
        "plt.figure(figsize=(10, 6))\n",
        "plt.barh(features, feature_importances)\n",
        "plt.xlabel('Feature Importance')\n",
        "plt.title('Feature Importances from RandomForest')\n",
        "plt.show()\n"
      ]
    },
    {
      "cell_type": "markdown",
      "id": "1039a8c1",
      "metadata": {
        "id": "1039a8c1"
      },
      "source": [
        "## Step 10:Hyperparameter Tuning and Cross-Validation"
      ]
    },
    {
      "cell_type": "code",
      "execution_count": null,
      "id": "14c06934",
      "metadata": {
        "colab": {
          "base_uri": "https://localhost:8080/",
          "height": 1000
        },
        "id": "14c06934",
        "outputId": "881effda-cc53-4ee4-be91-76148586e830"
      },
      "outputs": [
        {
          "name": "stdout",
          "output_type": "stream",
          "text": [
            "Fitting 5 folds for each of 486 candidates, totalling 2430 fits\n"
          ]
        },
        {
          "name": "stderr",
          "output_type": "stream",
          "text": [
            "/usr/local/lib/python3.11/dist-packages/sklearn/model_selection/_validation.py:528: FitFailedWarning: \n",
            "810 fits failed out of a total of 2430.\n",
            "The score on these train-test partitions for these parameters will be set to nan.\n",
            "If these failures are not expected, you can try to debug them by setting error_score='raise'.\n",
            "\n",
            "Below are more details about the failures:\n",
            "--------------------------------------------------------------------------------\n",
            "810 fits failed with the following error:\n",
            "Traceback (most recent call last):\n",
            "  File \"/usr/local/lib/python3.11/dist-packages/sklearn/model_selection/_validation.py\", line 866, in _fit_and_score\n",
            "    estimator.fit(X_train, y_train, **fit_params)\n",
            "  File \"/usr/local/lib/python3.11/dist-packages/sklearn/base.py\", line 1382, in wrapper\n",
            "    estimator._validate_params()\n",
            "  File \"/usr/local/lib/python3.11/dist-packages/sklearn/base.py\", line 436, in _validate_params\n",
            "    validate_parameter_constraints(\n",
            "  File \"/usr/local/lib/python3.11/dist-packages/sklearn/utils/_param_validation.py\", line 98, in validate_parameter_constraints\n",
            "    raise InvalidParameterError(\n",
            "sklearn.utils._param_validation.InvalidParameterError: The 'max_features' parameter of RandomForestClassifier must be an int in the range [1, inf), a float in the range (0.0, 1.0], a str among {'sqrt', 'log2'} or None. Got 'auto' instead.\n",
            "\n",
            "  warnings.warn(some_fits_failed_message, FitFailedWarning)\n",
            "/usr/local/lib/python3.11/dist-packages/sklearn/model_selection/_search.py:1108: UserWarning: One or more of the test scores are non-finite: [    nan     nan     nan     nan     nan     nan     nan     nan     nan\n",
            "     nan     nan     nan     nan     nan     nan     nan     nan     nan\n",
            "     nan     nan     nan     nan     nan     nan     nan     nan     nan\n",
            " 0.86875 0.87125 0.87125 0.87125 0.87    0.87375 0.865   0.86125 0.8675\n",
            " 0.8725  0.87125 0.87    0.875   0.8675  0.86625 0.86375 0.865   0.865\n",
            " 0.8675  0.86875 0.86875 0.8675  0.86875 0.86875 0.86    0.8625  0.8625\n",
            " 0.86875 0.87125 0.87125 0.87125 0.87    0.87375 0.865   0.86125 0.8675\n",
            " 0.8725  0.87125 0.87    0.875   0.8675  0.86625 0.86375 0.865   0.865\n",
            " 0.8675  0.86875 0.86875 0.8675  0.86875 0.86875 0.86    0.8625  0.8625\n",
            "     nan     nan     nan     nan     nan     nan     nan     nan     nan\n",
            "     nan     nan     nan     nan     nan     nan     nan     nan     nan\n",
            "     nan     nan     nan     nan     nan     nan     nan     nan     nan\n",
            " 0.86375 0.87125 0.8675  0.8725  0.875   0.875   0.865   0.86125 0.86375\n",
            " 0.86875 0.87125 0.8725  0.87125 0.86875 0.8675  0.86125 0.86625 0.865\n",
            " 0.8675  0.87    0.87    0.8675  0.87    0.87    0.8625  0.8625  0.8625\n",
            " 0.86375 0.87125 0.8675  0.8725  0.875   0.875   0.865   0.86125 0.86375\n",
            " 0.86875 0.87125 0.8725  0.87125 0.86875 0.8675  0.86125 0.86625 0.865\n",
            " 0.8675  0.87    0.87    0.8675  0.87    0.87    0.8625  0.8625  0.8625\n",
            "     nan     nan     nan     nan     nan     nan     nan     nan     nan\n",
            "     nan     nan     nan     nan     nan     nan     nan     nan     nan\n",
            "     nan     nan     nan     nan     nan     nan     nan     nan     nan\n",
            " 0.86375 0.87125 0.8675  0.8725  0.875   0.875   0.865   0.86125 0.86375\n",
            " 0.86875 0.87125 0.8725  0.87125 0.86875 0.8675  0.86125 0.86625 0.865\n",
            " 0.8675  0.87    0.87    0.8675  0.87    0.87    0.8625  0.8625  0.8625\n",
            " 0.86375 0.87125 0.8675  0.8725  0.875   0.875   0.865   0.86125 0.86375\n",
            " 0.86875 0.87125 0.8725  0.87125 0.86875 0.8675  0.86125 0.86625 0.865\n",
            " 0.8675  0.87    0.87    0.8675  0.87    0.87    0.8625  0.8625  0.8625\n",
            "     nan     nan     nan     nan     nan     nan     nan     nan     nan\n",
            "     nan     nan     nan     nan     nan     nan     nan     nan     nan\n",
            "     nan     nan     nan     nan     nan     nan     nan     nan     nan\n",
            " 0.86    0.86375 0.8625  0.8625  0.865   0.86375 0.87    0.8675  0.87\n",
            " 0.865   0.8675  0.86625 0.865   0.86625 0.8625  0.8675  0.8625  0.8675\n",
            " 0.86625 0.86875 0.8675  0.86625 0.86875 0.8675  0.8675  0.865   0.865\n",
            " 0.86    0.86375 0.8625  0.8625  0.865   0.86375 0.87    0.8675  0.87\n",
            " 0.865   0.8675  0.86625 0.865   0.86625 0.8625  0.8675  0.8625  0.8675\n",
            " 0.86625 0.86875 0.8675  0.86625 0.86875 0.8675  0.8675  0.865   0.865\n",
            "     nan     nan     nan     nan     nan     nan     nan     nan     nan\n",
            "     nan     nan     nan     nan     nan     nan     nan     nan     nan\n",
            "     nan     nan     nan     nan     nan     nan     nan     nan     nan\n",
            " 0.865   0.86    0.865   0.86375 0.8675  0.86375 0.86625 0.87    0.87125\n",
            " 0.86625 0.86625 0.8675  0.86375 0.86625 0.865   0.87    0.87125 0.87125\n",
            " 0.8675  0.8675  0.86625 0.8675  0.8675  0.86625 0.86875 0.86625 0.865\n",
            " 0.865   0.86    0.865   0.86375 0.8675  0.86375 0.86625 0.87    0.87125\n",
            " 0.86625 0.86625 0.8675  0.86375 0.86625 0.865   0.87    0.87125 0.87125\n",
            " 0.8675  0.8675  0.86625 0.8675  0.8675  0.86625 0.86875 0.86625 0.865\n",
            "     nan     nan     nan     nan     nan     nan     nan     nan     nan\n",
            "     nan     nan     nan     nan     nan     nan     nan     nan     nan\n",
            "     nan     nan     nan     nan     nan     nan     nan     nan     nan\n",
            " 0.865   0.86    0.865   0.86375 0.8675  0.86375 0.86625 0.87    0.87125\n",
            " 0.86625 0.86625 0.8675  0.86375 0.86625 0.865   0.87    0.87125 0.87125\n",
            " 0.8675  0.8675  0.86625 0.8675  0.8675  0.86625 0.86875 0.86625 0.865\n",
            " 0.865   0.86    0.865   0.86375 0.8675  0.86375 0.86625 0.87    0.87125\n",
            " 0.86625 0.86625 0.8675  0.86375 0.86625 0.865   0.87    0.87125 0.87125\n",
            " 0.8675  0.8675  0.86625 0.8675  0.8675  0.86625 0.86875 0.86625 0.865  ]\n",
            "  warnings.warn(\n"
          ]
        },
        {
          "name": "stdout",
          "output_type": "stream",
          "text": [
            "Best Parameters: {'bootstrap': True, 'max_depth': 20, 'max_features': 'sqrt', 'min_samples_leaf': 1, 'min_samples_split': 5, 'n_estimators': 200}\n",
            "Best Cross-Validation Score: 0.88\n",
            "Best Model Classification Report:\n",
            "               precision    recall  f1-score   support\n",
            "\n",
            "           0       0.92      0.88      0.90        65\n",
            "           1       0.82      0.94      0.87        62\n",
            "           2       0.93      0.85      0.89        73\n",
            "\n",
            "    accuracy                           0.89       200\n",
            "   macro avg       0.89      0.89      0.89       200\n",
            "weighted avg       0.89      0.89      0.89       200\n",
            "\n"
          ]
        },
        {
          "data": {
            "image/png": "[encoded data removed]",
            "text/plain": [
              "<Figure size 800x600 with 2 Axes>"
            ]
          },
          "metadata": {},
          "output_type": "display_data"
        },
        {
          "data": {
            "image/png": "[encoded data removed]",
            "text/plain": [
              "<Figure size 1000x600 with 1 Axes>"
            ]
          },
          "metadata": {},
          "output_type": "display_data"
        },
        {
          "name": "stdout",
          "output_type": "stream",
          "text": [
            "Cross-Validation Scores: [0.91875 0.86875 0.8625  0.85625 0.86875]\n",
            "Mean Cross-Validation Score: 0.88\n"
          ]
        }
      ],
      "source": [
        "from sklearn.model_selection import cross_val_score\n",
        "\n",
        "# Step 10: Hyperparameter Tuning using GridSearchCV and Cross-Validation\n",
        "\n",
        "# Define the parameter grid for Random Forest (you can adjust based on your model)\n",
        "param_grid = {\n",
        "    'n_estimators': [100, 200, 300],      # Number of trees in the forest\n",
        "    'max_depth': [10, 20, None],           # Maximum depth of the tree\n",
        "    'min_samples_split': [2, 5, 10],       # Minimum samples required to split an internal node\n",
        "    'min_samples_leaf': [1, 2, 4],         # Minimum samples required to be at a leaf node\n",
        "    'max_features': ['auto', 'sqrt', 'log2'],  # The number of features to consider when looking for the best split\n",
        "    'bootstrap': [True, False]             # Whether bootstrap samples are used when building trees\n",
        "}\n",
        "\n",
        "# Initialize the RandomForestClassifier\n",
        "clf = RandomForestClassifier(random_state=42)\n",
        "\n",
        "# Perform GridSearchCV for hyperparameter tuning with cross-validation\n",
        "grid_search = GridSearchCV(estimator=clf, param_grid=param_grid, cv=5, verbose=1, n_jobs=-1)\n",
        "\n",
        "# Fit GridSearchCV\n",
        "grid_search.fit(X_train, y_train)\n",
        "\n",
        "# Best parameters and best score from GridSearchCV\n",
        "print(f\"Best Parameters: {grid_search.best_params_}\")\n",
        "print(f\"Best Cross-Validation Score: {grid_search.best_score_:.2f}\")\n",
        "\n",
        "# Best model from GridSearchCV\n",
        "best_model = grid_search.best_estimator_\n",
        "\n",
        "# Evaluate the best model on the test data\n",
        "y_pred_best = best_model.predict(X_test)\n",
        "\n",
        "# Step 11: Print classification report for the best model\n",
        "class_report_best = classification_report(y_test, y_pred_best)\n",
        "print(\"Best Model Classification Report:\\n\", class_report_best)\n",
        "\n",
        "# Step 12: Plot Confusion Matrix for the best model\n",
        "conf_matrix_best = confusion_matrix(y_test, y_pred_best)\n",
        "plt.figure(figsize=(8, 6))\n",
        "sns.heatmap(conf_matrix_best, annot=True, fmt='d', cmap='Blues', xticklabels=df[target_column_name].unique(), yticklabels=df[target_column_name].unique())\n",
        "plt.title('Confusion Matrix (Best Model)')\n",
        "plt.xlabel('Predicted Labels')\n",
        "plt.ylabel('True Labels')\n",
        "plt.show()\n",
        "\n",
        "# Step 13: Plot Feature Importances for the best model\n",
        "feature_importances_best = best_model.feature_importances_\n",
        "plt.figure(figsize=(10, 6))\n",
        "plt.barh(features, feature_importances_best)\n",
        "plt.xlabel('Feature Importance')\n",
        "plt.title('Feature Importances (Best Model)')\n",
        "plt.show()\n",
        "\n",
        "# Step 14: Perform Cross-Validation on the best model\n",
        "cross_val_scores = cross_val_score(best_model, X_train, y_train, cv=5)\n",
        "print(f\"Cross-Validation Scores: {cross_val_scores}\")\n",
        "print(f\"Mean Cross-Validation Score: {cross_val_scores.mean():.2f}\")\n"
      ]
    },
    {
      "cell_type": "code",
      "execution_count": null,
      "id": "f27700cb",
      "metadata": {
        "colab": {
          "base_uri": "https://localhost:8080/",
          "height": 765
        },
        "id": "f27700cb",
        "outputId": "a06393dd-3eb0-4f51-8aa7-c985934d01dc"
      },
      "outputs": [
        {
          "name": "stdout",
          "output_type": "stream",
          "text": [
            "Best Model Classification Report:\n",
            "               precision    recall  f1-score   support\n",
            "\n",
            "           0       0.92      0.88      0.90        65\n",
            "           1       0.82      0.94      0.87        62\n",
            "           2       0.93      0.85      0.89        73\n",
            "\n",
            "    accuracy                           0.89       200\n",
            "   macro avg       0.89      0.89      0.89       200\n",
            "weighted avg       0.89      0.89      0.89       200\n",
            "\n"
          ]
        },
        {
          "data": {
            "image/png": "[encoded data removed]",
            "text/plain": [
              "<Figure size 800x600 with 2 Axes>"
            ]
          },
          "metadata": {},
          "output_type": "display_data"
        }
      ],
      "source": [
        "from sklearn.metrics import classification_report, confusion_matrix\n",
        "import seaborn as sns\n",
        "import matplotlib.pyplot as plt\n",
        "\n",
        "# Step 11: Classification Report and Confusion Matrix for the best model\n",
        "\n",
        "# Generate predictions using the best model\n",
        "y_pred_best = best_model.predict(X_test)\n",
        "\n",
        "# 1. Classification Report\n",
        "class_report_best = classification_report(y_test, y_pred_best)\n",
        "print(\"Best Model Classification Report:\\n\", class_report_best)\n",
        "\n",
        "# 2. Confusion Matrix\n",
        "conf_matrix_best = confusion_matrix(y_test, y_pred_best)\n",
        "\n",
        "# Plot Confusion Matrix\n",
        "plt.figure(figsize=(8, 6))\n",
        "sns.heatmap(conf_matrix_best, annot=True, fmt='d', cmap='Blues', xticklabels=df[target_column_name].unique(), yticklabels=df[target_column_name].unique())\n",
        "plt.title('Confusion Matrix (Best Model)')\n",
        "plt.xlabel('Predicted Labels')\n",
        "plt.ylabel('True Labels')\n",
        "plt.show()\n"
      ]
    },
    {
      "cell_type": "code",
      "execution_count": null,
      "id": "a7c62ec2",
      "metadata": {
        "colab": {
          "background_save": true
        },
        "id": "a7c62ec2",
        "outputId": "14b07f3f-036b-4bdb-a8a6-f3cadb8628d7"
      },
      "outputs": [
        {
          "data": {
            "text/plain": [
              "['best_model.pkl']"
            ]
          },
          "execution_count": 33,
          "metadata": {},
          "output_type": "execute_result"
        }
      ],
      "source": [
        "import joblib\n",
        "\n",
        "# Save the model\n",
        "joblib.dump(best_model, 'best_model.pkl')\n"
      ]
    },
    {
      "cell_type": "code",
      "execution_count": null,
      "id": "1b2d7e39",
      "metadata": {
        "id": "1b2d7e39"
      },
      "outputs": [],
      "source": []
    }
  ],
  "metadata": {
    "colab": {
      "provenance": []
    },
    "kernelspec": {
      "display_name": "Python 3 (ipykernel)",
      "language": "python",
      "name": "python3"
    },
    "language_info": {
      "codemirror_mode": {
        "name": "ipython",
        "version": 3
      },
      "file_extension": ".py",
      "mimetype": "text/x-python",
      "name": "python",
      "nbconvert_exporter": "python",
      "pygments_lexer": "ipython3",
      "version": "3.11.5"
    }
  },
  "nbformat": 4,
  "nbformat_minor": 5
}